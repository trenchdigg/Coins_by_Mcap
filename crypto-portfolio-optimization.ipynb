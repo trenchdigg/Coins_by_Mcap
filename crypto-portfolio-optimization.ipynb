import numpy as np
import pandas as pd
import json
from bs4 import BeautifulSoup 
import requests
import matplotlib.pyplot as plt

#Data Acquisition - Select Cryptocurrencie Interest
Mcap_in_Billions =.1e9
all_coins_dict = json.loads(BeautifulSoup(
        requests.get('http://coincap.io/front').content, "html.parser").prettify())
all_coins_df = pd.DataFrame(all_coins_dict)
coins_by_mcap = all_coins_df[all_coins_df.mktcap > Mcap_in_Billions]
coin_portfolio = coins_by_mcap['short']
tokens = coin_portfolio.values
coins = []
for coin in tokens:
  coins.append(str(coin))
